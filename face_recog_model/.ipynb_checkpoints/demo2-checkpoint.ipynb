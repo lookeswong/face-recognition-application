{
 "cells": [
  {
   "cell_type": "code",
   "execution_count": 1,
   "id": "private-audio",
   "metadata": {},
   "outputs": [],
   "source": [
    "import tensorflow as tf\n",
    "import matplotlib.pyplot as plt\n",
    "from tensorflow import keras\n",
    "from tensorflow.keras.models import Sequential\n",
    "import shutil\n",
    "import zipfile\n",
    "import cv2\n",
    "import os\n",
    "import PIL\n",
    "import numpy as np\n",
    "import splitfolders\n",
    "from PIL import Image\n",
    "from mtcnn.mtcnn import MTCNN\n",
    "from tensorflow.keras.preprocessing import image\n",
    "from tensorflow.keras import layers\n",
    "from tensorflow.keras.applications import vgg16\n",
    "from tensorflow.keras.preprocessing.image import ImageDataGenerator"
   ]
  },
  {
   "cell_type": "code",
   "execution_count": 2,
   "id": "crucial-peoples",
   "metadata": {},
   "outputs": [],
   "source": [
    "detector = MTCNN()\n",
    "path_to_data = \"./data/\" \n",
    "path_to_processed_data = \"./processed_datasets_new/\""
   ]
  },
  {
   "cell_type": "code",
   "execution_count": 3,
   "id": "raising-elder",
   "metadata": {},
   "outputs": [],
   "source": [
    "def extract_face(filename, required_size=(224,224)):\n",
    "    # load image from file\n",
    "    img_to_load = plt.imread(filename)\n",
    "    \n",
    "    # detect face in the image using face detector\n",
    "    results = detector.detect_faces(img_to_load)\n",
    "    \n",
    "    # extract the bounding box from the first face\n",
    "    x1, y1, width, height = results[0]['box']\n",
    "    x1, y1 = abs(x1), abs(y1)\n",
    "    x2, y2 = x1 + width, y1 + height\n",
    "    \n",
    "    # extract the face\n",
    "    face = img_to_load[y1:y2, x1:x2]\n",
    "    \n",
    "    # resize pixels to the model size\n",
    "    image = Image.fromarray(face)\n",
    "    image = image.resize(required_size)\n",
    "    face_array = np.asarray(image)\n",
    "    \n",
    "    return face_array"
   ]
  },
  {
   "cell_type": "code",
   "execution_count": 4,
   "id": "north-coalition",
   "metadata": {},
   "outputs": [],
   "source": [
    "img_rows, img_cols = 224, 224"
   ]
  },
  {
   "cell_type": "code",
   "execution_count": 5,
   "id": "fatal-border",
   "metadata": {},
   "outputs": [],
   "source": [
    "model = vgg16.VGG16(weights='imagenet', include_top = False,\n",
    "                   input_shape = (img_rows, img_cols, 3))"
   ]
  },
  {
   "cell_type": "code",
   "execution_count": 6,
   "id": "public-flush",
   "metadata": {},
   "outputs": [],
   "source": [
    "for layer in model.layers:\n",
    "    layer.trainable = False"
   ]
  },
  {
   "cell_type": "code",
   "execution_count": 7,
   "id": "seeing-insulin",
   "metadata": {},
   "outputs": [],
   "source": [
    "def addToModel(bottom_model, num_classes):\n",
    "    top_model = bottom_model.output\n",
    "    top_model = Flatten(name=\"flatten\")(top_model)\n",
    "    top_model = Dense(1024, activation='relu')(top_model)\n",
    "    top_model = Dense(1024, activation='relu')(top_model)\n",
    "    top_model = Dense(512, activation='relu')(top_model)\n",
    "    top_model = Dense(num_classes, activation='softmax')(top_model)\n",
    "    return top_model"
   ]
  },
  {
   "cell_type": "code",
   "execution_count": 8,
   "id": "historic-scout",
   "metadata": {},
   "outputs": [],
   "source": [
    "from tensorflow.keras.models import Sequential\n",
    "from tensorflow.keras.layers import Dense, Dropout, Activation, Flatten, GlobalAveragePooling2D\n",
    "from tensorflow.keras.layers import Conv2D, MaxPooling2D, ZeroPadding2D\n",
    "from keras.layers.normalization import BatchNormalization\n",
    "from keras.models import Model"
   ]
  },
  {
   "cell_type": "code",
   "execution_count": 9,
   "id": "framed-decline",
   "metadata": {},
   "outputs": [
    {
     "name": "stdout",
     "output_type": "stream",
     "text": [
      "Model: \"functional_7\"\n",
      "_________________________________________________________________\n",
      "Layer (type)                 Output Shape              Param #   \n",
      "=================================================================\n",
      "input_4 (InputLayer)         [(None, 224, 224, 3)]     0         \n",
      "_________________________________________________________________\n",
      "block1_conv1 (Conv2D)        (None, 224, 224, 64)      1792      \n",
      "_________________________________________________________________\n",
      "block1_conv2 (Conv2D)        (None, 224, 224, 64)      36928     \n",
      "_________________________________________________________________\n",
      "block1_pool (MaxPooling2D)   (None, 112, 112, 64)      0         \n",
      "_________________________________________________________________\n",
      "block2_conv1 (Conv2D)        (None, 112, 112, 128)     73856     \n",
      "_________________________________________________________________\n",
      "block2_conv2 (Conv2D)        (None, 112, 112, 128)     147584    \n",
      "_________________________________________________________________\n",
      "block2_pool (MaxPooling2D)   (None, 56, 56, 128)       0         \n",
      "_________________________________________________________________\n",
      "block3_conv1 (Conv2D)        (None, 56, 56, 256)       295168    \n",
      "_________________________________________________________________\n",
      "block3_conv2 (Conv2D)        (None, 56, 56, 256)       590080    \n",
      "_________________________________________________________________\n",
      "block3_conv3 (Conv2D)        (None, 56, 56, 256)       590080    \n",
      "_________________________________________________________________\n",
      "block3_pool (MaxPooling2D)   (None, 28, 28, 256)       0         \n",
      "_________________________________________________________________\n",
      "block4_conv1 (Conv2D)        (None, 28, 28, 512)       1180160   \n",
      "_________________________________________________________________\n",
      "block4_conv2 (Conv2D)        (None, 28, 28, 512)       2359808   \n",
      "_________________________________________________________________\n",
      "block4_conv3 (Conv2D)        (None, 28, 28, 512)       2359808   \n",
      "_________________________________________________________________\n",
      "block4_pool (MaxPooling2D)   (None, 14, 14, 512)       0         \n",
      "_________________________________________________________________\n",
      "block5_conv1 (Conv2D)        (None, 14, 14, 512)       2359808   \n",
      "_________________________________________________________________\n",
      "block5_conv2 (Conv2D)        (None, 14, 14, 512)       2359808   \n",
      "_________________________________________________________________\n",
      "block5_conv3 (Conv2D)        (None, 14, 14, 512)       2359808   \n",
      "_________________________________________________________________\n",
      "block5_pool (MaxPooling2D)   (None, 7, 7, 512)         0         \n",
      "_________________________________________________________________\n",
      "flatten (Flatten)            (None, 25088)             0         \n",
      "_________________________________________________________________\n",
      "dense_7 (Dense)              (None, 1024)              25691136  \n",
      "_________________________________________________________________\n",
      "dense_8 (Dense)              (None, 1024)              1049600   \n",
      "_________________________________________________________________\n",
      "dense_9 (Dense)              (None, 512)               524800    \n",
      "_________________________________________________________________\n",
      "dense_10 (Dense)             (None, 3)                 1539      \n",
      "=================================================================\n",
      "Total params: 41,981,763\n",
      "Trainable params: 27,267,075\n",
      "Non-trainable params: 14,714,688\n",
      "_________________________________________________________________\n",
      "None\n"
     ]
    }
   ],
   "source": [
    "num_classes = 3\n",
    "FC_Head = addToModel(model, num_classes)\n",
    "new_model = Model(inputs = model.input, outputs = FC_Head)\n",
    "\n",
    "print(new_model.summary())"
   ]
  },
  {
   "cell_type": "code",
   "execution_count": 10,
   "id": "diverse-testament",
   "metadata": {},
   "outputs": [
    {
     "name": "stdout",
     "output_type": "stream",
     "text": [
      "Found 74 images belonging to 3 classes.\n",
      "Found 22 images belonging to 3 classes.\n"
     ]
    }
   ],
   "source": [
    "train_data_dir = './output/train'\n",
    "validation_data_dir = './output/val'\n",
    "\n",
    "train_datagen = ImageDataGenerator(rescale=1./255, \n",
    "                                  rotation_range=20,\n",
    "                                  width_shift_range=0.2,\n",
    "                                  horizontal_flip=True,\n",
    "                                  fill_mode='nearest')\n",
    "\n",
    "validation_datagen = ImageDataGenerator(rescale=1./255)\n",
    "\n",
    "batch_size = 5\n",
    "\n",
    "train_generator = train_datagen.flow_from_directory(train_data_dir,\n",
    "                                                   target_size=(img_rows, img_cols), \n",
    "                                                   batch_size = batch_size, \n",
    "                                                   class_mode = 'categorical')\n",
    "\n",
    "validation_generator = validation_datagen.flow_from_directory(validation_data_dir, \n",
    "                                                              target_size=(img_rows, img_cols), \n",
    "                                                              batch_size = batch_size, \n",
    "                                                              class_mode = 'categorical')"
   ]
  },
  {
   "cell_type": "code",
   "execution_count": 11,
   "id": "smoking-worcester",
   "metadata": {},
   "outputs": [],
   "source": [
    "from keras.optimizers import RMSprop\n",
    "from keras.callbacks import ModelCheckpoint, EarlyStopping\n",
    "\n",
    "checkpoint = ModelCheckpoint(\"facedetect.h5\", \n",
    "                            monitor=\"val_loss\", \n",
    "                            mode=\"min\", \n",
    "                            save_best_only=True,\n",
    "                            verbose=1)\n",
    "\n",
    "earlystop = EarlyStopping(monitor=\"val_loss\", \n",
    "                         min_delta=0, \n",
    "                         patience=3,\n",
    "                         verbose=1, \n",
    "                         restore_best_weights = True)\n",
    "\n",
    "callbacks = [earlystop, checkpoint]\n",
    "\n",
    "new_model.compile(loss = 'categorical_crossentropy', \n",
    "                 optimizer = RMSprop(lr=0.001), \n",
    "                 metrics = ['accuracy'])\n",
    "\n",
    "nb_train_samples = 69\n",
    "nb_validation_samples = 20"
   ]
  },
  {
   "cell_type": "code",
   "execution_count": 12,
   "id": "veterinary-analysis",
   "metadata": {
    "scrolled": false
   },
   "outputs": [
    {
     "name": "stdout",
     "output_type": "stream",
     "text": [
      "Epoch 1/10\n",
      "13/13 [==============================] - ETA: 0s - loss: 19.0991 - accuracy: 0.3538\n",
      "Epoch 00001: val_loss improved from inf to 1.64605, saving model to facedetect.h5\n",
      "13/13 [==============================] - 10s 794ms/step - loss: 19.0991 - accuracy: 0.3538 - val_loss: 1.6460 - val_accuracy: 0.6500\n",
      "Epoch 2/10\n",
      "13/13 [==============================] - ETA: 0s - loss: 0.2662 - accuracy: 0.9062\n",
      "Epoch 00002: val_loss improved from 1.64605 to 0.00264, saving model to facedetect.h5\n",
      "13/13 [==============================] - 10s 777ms/step - loss: 0.2662 - accuracy: 0.9062 - val_loss: 0.0026 - val_accuracy: 1.0000\n",
      "Epoch 3/10\n",
      "13/13 [==============================] - ETA: 0s - loss: 9.1471e-04 - accuracy: 1.0000\n",
      "Epoch 00003: val_loss did not improve from 0.00264\n",
      "13/13 [==============================] - 10s 791ms/step - loss: 9.1471e-04 - accuracy: 1.0000 - val_loss: 0.0151 - val_accuracy: 1.0000\n",
      "Epoch 4/10\n",
      "13/13 [==============================] - ETA: 0s - loss: 1.6128e-04 - accuracy: 1.0000\n",
      "Epoch 00004: val_loss improved from 0.00264 to 0.00005, saving model to facedetect.h5\n",
      "13/13 [==============================] - 11s 858ms/step - loss: 1.6128e-04 - accuracy: 1.0000 - val_loss: 4.6127e-05 - val_accuracy: 1.0000\n",
      "Epoch 5/10\n",
      "13/13 [==============================] - ETA: 0s - loss: 9.2999e-06 - accuracy: 1.0000\n",
      "Epoch 00005: val_loss did not improve from 0.00005\n",
      "13/13 [==============================] - 11s 810ms/step - loss: 9.2999e-06 - accuracy: 1.0000 - val_loss: 5.9016e-04 - val_accuracy: 1.0000\n",
      "Epoch 6/10\n",
      "13/13 [==============================] - ETA: 0s - loss: 5.3178e-06 - accuracy: 1.0000\n",
      "Epoch 00006: val_loss did not improve from 0.00005\n",
      "13/13 [==============================] - 10s 798ms/step - loss: 5.3178e-06 - accuracy: 1.0000 - val_loss: 7.8792e-04 - val_accuracy: 1.0000\n",
      "Epoch 7/10\n",
      "13/13 [==============================] - ETA: 0s - loss: 3.3397e-06 - accuracy: 1.0000Restoring model weights from the end of the best epoch.\n",
      "\n",
      "Epoch 00007: val_loss did not improve from 0.00005\n",
      "13/13 [==============================] - 11s 810ms/step - loss: 3.3397e-06 - accuracy: 1.0000 - val_loss: 7.3239e-04 - val_accuracy: 1.0000\n",
      "Epoch 00007: early stopping\n"
     ]
    }
   ],
   "source": [
    "history = new_model.fit(train_generator, \n",
    "                        steps_per_epoch = nb_train_samples // batch_size, \n",
    "                        epochs = 10, \n",
    "                        callbacks = callbacks, \n",
    "                        validation_data = validation_generator, \n",
    "                        validation_steps = nb_validation_samples // batch_size\n",
    "                       )"
   ]
  },
  {
   "cell_type": "code",
   "execution_count": 14,
   "id": "advisory-examination",
   "metadata": {},
   "outputs": [
    {
     "data": {
      "image/png": "[encoded data removed]",
      "text/plain": [
       "<Figure size 576x576 with 2 Axes>"
      ]
     },
     "metadata": {
      "needs_background": "light"
     },
     "output_type": "display_data"
    }
   ],
   "source": [
    "acc = history.history['accuracy']\n",
    "val_acc = history.history['val_accuracy']\n",
    "\n",
    "loss = history.history['loss']\n",
    "val_loss = history.history['val_loss']\n",
    "\n",
    "epochs_range = range(10)\n",
    "\n",
    "plt.figure(figsize=(8, 8))\n",
    "plt.subplot(1, 2, 1)\n",
    "plt.plot(epochs_range, acc, label='Training Accuracy')\n",
    "plt.plot(epochs_range, val_acc, label='Validation Accuracy')\n",
    "plt.legend(loc='lower right')\n",
    "plt.title('Training and Validation Accuracy')\n",
    "\n",
    "plt.subplot(1, 2, 2)\n",
    "plt.plot(epochs_range, loss, label='Training Loss')\n",
    "plt.plot(epochs_range, val_loss, label='Validation Loss')\n",
    "plt.legend(loc='upper right')\n",
    "plt.title('Training and Validation Loss')\n",
    "plt.show()"
   ]
  },
  {
   "cell_type": "code",
   "execution_count": null,
   "id": "characteristic-german",
   "metadata": {},
   "outputs": [],
   "source": [
    "for img in os.scandir('./test_images2'):\n",
    "    print(img.path)\n",
    "    img = extract_face(img.path)\n",
    "#     img = image.load_img(img.path, target_size=(224,224,3))\n",
    "    plt.imshow(img)\n",
    "    plt.show()\n",
    "    \n",
    "    img_array = keras.preprocessing.image.img_to_array(img)\n",
    "    img_array = tf.expand_dims(img_array, 0) # Create a batch\n",
    "\n",
    "    predictions = new_model.predict(img_array)\n",
    "    score = tf.nn.softmax(predictions[0])\n",
    "    print(score)\n",
    "\n",
    "    print(\n",
    "        \"This image most likely belongs to {} with a {:.2f} percent confidence.\"\n",
    "        .format(np.argmax(score), 100 * np.max(score))\n",
    "    )"
   ]
  },
  {
   "cell_type": "code",
   "execution_count": null,
   "id": "public-deadline",
   "metadata": {},
   "outputs": [],
   "source": []
  },
  {
   "cell_type": "code",
   "execution_count": null,
   "id": "intense-batman",
   "metadata": {},
   "outputs": [],
   "source": []
  }
 ],
 "metadata": {
  "kernelspec": {
   "display_name": "Python 3",
   "language": "python",
   "name": "python3"
  },
  "language_info": {
   "codemirror_mode": {
    "name": "ipython",
    "version": 3
   },
   "file_extension": ".py",
   "mimetype": "text/x-python",
   "name": "python",
   "nbconvert_exporter": "python",
   "pygments_lexer": "ipython3",
   "version": "3.8.5"
  }
 },
 "nbformat": 4,
 "nbformat_minor": 5
}
